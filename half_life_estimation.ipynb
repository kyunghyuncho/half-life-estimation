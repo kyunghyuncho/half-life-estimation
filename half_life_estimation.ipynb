{
 "cells": [
  {
   "cell_type": "code",
   "execution_count": 70,
   "metadata": {},
   "outputs": [],
   "source": [
    "%matplotlib widget"
   ]
  },
  {
   "cell_type": "code",
   "execution_count": 71,
   "metadata": {},
   "outputs": [],
   "source": [
    "import torch\n",
    "import pyro\n",
    "from pyro.infer import mcmc"
   ]
  },
  {
   "cell_type": "code",
   "execution_count": 72,
   "metadata": {},
   "outputs": [],
   "source": [
    "from collections import OrderedDict"
   ]
  },
  {
   "cell_type": "code",
   "execution_count": 76,
   "metadata": {},
   "outputs": [],
   "source": [
    "def half_life_one_isotope(obs):\n",
    "    daily_body_waste = pyro.sample('daily_body_waste', pyro.distributions.Exponential(1.))\n",
    "    half_life = pyro.sample('half_life', pyro.distributions.Exponential(1.))\n",
    "    \n",
    "    likelihoods = []\n",
    "    l0 = obs['l0']\n",
    "    t0 = obs['t0']\n",
    "    for fi, fo in enumerate(obs['followup']):\n",
    "        t_ = fo['time']-t0\n",
    "        level_ = fo['level']\n",
    "    \n",
    "        mu_ = ((1./2.) ** (t_ / half_life)) * l0 - daily_body_waste * t_\n",
    "        lik_ = pyro.sample('obs_{}'.format(fi), pyro.distributions.Normal(mu_, 1.), obs=torch.ones(1) * level_) \n",
    "        likelihoods.append(lik_)\n",
    "    \n",
    "    return likelihoods"
   ]
  },
  {
   "cell_type": "code",
   "execution_count": 77,
   "metadata": {},
   "outputs": [],
   "source": [
    "timestamps = [43618.65625,\n",
    "            43618.70833,\n",
    "            43618.74653,\n",
    "            43618.82292,\n",
    "            43618.89236,\n",
    "            43618.95486,\n",
    "            43619.38889,\n",
    "            43619.4375]\n",
    "measurements = [\n",
    "    6600,\n",
    "    6300,\n",
    "    6600,\n",
    "    5800,\n",
    "    5300,\n",
    "    4900,\n",
    "    850,\n",
    "    1050,\n",
    "]"
   ]
  },
  {
   "cell_type": "code",
   "execution_count": 78,
   "metadata": {},
   "outputs": [],
   "source": [
    "obs = OrderedDict()"
   ]
  },
  {
   "cell_type": "code",
   "execution_count": 79,
   "metadata": {},
   "outputs": [],
   "source": [
    "obs['t0'] = timestamps[0]\n",
    "obs['l0'] = measurements[0]"
   ]
  },
  {
   "cell_type": "code",
   "execution_count": 80,
   "metadata": {},
   "outputs": [],
   "source": [
    "obs['followup'] = []\n",
    "for tt, mm in zip(timestamps, measurements):\n",
    "    obs['followup'].append(OrderedDict({'time': tt, 'level': mm}))"
   ]
  },
  {
   "cell_type": "code",
   "execution_count": 81,
   "metadata": {},
   "outputs": [
    {
     "name": "stderr",
     "output_type": "stream",
     "text": [
      "Sample: 100%|██████████| 250/250 [06:35<00:00,  1.42s/it, step size=1.93e-04, acc. rate=0.992]\n"
     ]
    }
   ],
   "source": [
    "nuts_kernel = pyro.infer.mcmc.NUTS(half_life_one_isotope, adapt_step_size=True, step_size=0.1)\n",
    "mcmc_run = pyro.infer.mcmc.MCMC(nuts_kernel, num_samples=200, warmup_steps=50).run(obs)\n",
    "score_marginal = pyro.infer.EmpiricalMarginal(mcmc_run, sites=[\"half_life\", \"daily_body_waste\"])"
   ]
  },
  {
   "cell_type": "code",
   "execution_count": 91,
   "metadata": {},
   "outputs": [
    {
     "name": "stdout",
     "output_type": "stream",
     "text": [
      "estimated half life (hours) 10.3615243434906 ± 0.0026238035643473268\n"
     ]
    }
   ],
   "source": [
    "print('estimated half life (hours)', 24 * score_marginal.mean[0].item(), '±', 24 * score_marginal.stddev[0].item())"
   ]
  },
  {
   "cell_type": "code",
   "execution_count": 93,
   "metadata": {},
   "outputs": [
    {
     "name": "stdout",
     "output_type": "stream",
     "text": [
      "estimated cpm body exit per day (not accounted by radioactive decay) 1.1821047067642212 ± 0.5966048836708069\n"
     ]
    }
   ],
   "source": [
    "print('estimated cpm body exit per day (not accounted by radioactive decay)', score_marginal.mean[1].item(), '±', score_marginal.stddev[1].item())"
   ]
  }
 ],
 "metadata": {
  "kernelspec": {
   "display_name": "Python 3",
   "language": "python",
   "name": "python3"
  },
  "language_info": {
   "codemirror_mode": {
    "name": "ipython",
    "version": 3
   },
   "file_extension": ".py",
   "mimetype": "text/x-python",
   "name": "python",
   "nbconvert_exporter": "python",
   "pygments_lexer": "ipython3",
   "version": "3.7.3"
  }
 },
 "nbformat": 4,
 "nbformat_minor": 2
}
