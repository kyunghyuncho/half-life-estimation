{
 "cells": [
  {
   "cell_type": "code",
   "execution_count": 70,
   "metadata": {},
   "outputs": [],
   "source": [
    "%matplotlib widget"
   ]
  },
  {
   "cell_type": "code",
   "execution_count": 188,
   "metadata": {},
   "outputs": [],
   "source": [
    "import torch\n",
    "import pyro\n",
    "from pyro.infer import mcmc"
   ]
  },
  {
   "cell_type": "code",
   "execution_count": 189,
   "metadata": {},
   "outputs": [],
   "source": [
    "import numpy"
   ]
  },
  {
   "cell_type": "code",
   "execution_count": 190,
   "metadata": {},
   "outputs": [],
   "source": [
    "from collections import OrderedDict"
   ]
  },
  {
   "cell_type": "code",
   "execution_count": 205,
   "metadata": {},
   "outputs": [],
   "source": [
    "def half_life_one_isotope(obs):\n",
    "    daily_body_waste = pyro.sample('daily_body_waste', pyro.distributions.Exponential(100.))\n",
    "    half_life = pyro.sample('half_life', pyro.distributions.Exponential(1.))\n",
    "    \n",
    "    likelihoods = []\n",
    "    l0 = obs['l0']\n",
    "    t0 = obs['t0']\n",
    "    for fi, fo in enumerate(obs['followup'][1:]):\n",
    "        t_ = fo['time']-t0\n",
    "        level_ = fo['level']\n",
    "    \n",
    "        mu_ = ((1./2.) ** (t_ / half_life)) * l0 - daily_body_waste * t_\n",
    "        lik_ = pyro.sample('obs_{}'.format(fi), pyro.distributions.Normal(mu_, 1.), obs=torch.ones(1) * level_) \n",
    "        likelihoods.append(lik_)\n",
    "    \n",
    "    return likelihoods"
   ]
  },
  {
   "cell_type": "code",
   "execution_count": 206,
   "metadata": {},
   "outputs": [],
   "source": [
    "def convert_gdays_hours(inp):\n",
    "    out = []\n",
    "    for ii in inp:\n",
    "        days = numpy.floor(ii)\n",
    "        hours = (ii - days)\n",
    "        out.append(24 * (hours + days))\n",
    "    return out"
   ]
  },
  {
   "cell_type": "code",
   "execution_count": 207,
   "metadata": {},
   "outputs": [],
   "source": [
    "''' I-123 '''\n",
    "timestamps = [43618.65625,\n",
    "            43618.70833,\n",
    "            43618.74653,\n",
    "            43618.82292,\n",
    "            43618.89236,\n",
    "            43618.95486,\n",
    "            43619.38889,\n",
    "            43619.4375]\n",
    "# measurements = [\n",
    "#     40,\n",
    "# 40,\n",
    "# 43,\n",
    "# 37,\n",
    "# 34,\n",
    "# 31.6,\n",
    "# 5.3,\n",
    "# 6.77\n",
    "# ]\n",
    "measurements = [\n",
    "    6600,\n",
    "    6300,\n",
    "    6600,\n",
    "    5800,\n",
    "    5300,\n",
    "    4900,\n",
    "    850,\n",
    "    1050,\n",
    "]\n",
    "\n",
    "# ''' i-131 '''\n",
    "# timestampes = [43619.67431,\n",
    "# 43619.78472,\n",
    "# 43620.34792,\n",
    "# 43620.46181,\n",
    "# 43620.52083,\n",
    "# 43620.73958,\n",
    "# 43621.38542,\n",
    "# 43621.69861,\n",
    "# 43622.64583]\n",
    "# measurements = [1640,\n",
    "# 1560,\n",
    "# 750,\n",
    "# 740,\n",
    "# 650,\n",
    "# 477,\n",
    "# 208,\n",
    "# 178,\n",
    "# 117,\n",
    "# ]\n",
    "# measurements = [840000,\n",
    "# 575000,\n",
    "# 370000,\n",
    "# 380000,\n",
    "# 304000,\n",
    "# 208000,\n",
    "# 92000,\n",
    "# 66200]"
   ]
  },
  {
   "cell_type": "code",
   "execution_count": 208,
   "metadata": {},
   "outputs": [],
   "source": [
    "timestamps = convert_gdays_hours(timestamps)"
   ]
  },
  {
   "cell_type": "code",
   "execution_count": 209,
   "metadata": {},
   "outputs": [],
   "source": [
    "obs = OrderedDict()"
   ]
  },
  {
   "cell_type": "code",
   "execution_count": 210,
   "metadata": {},
   "outputs": [],
   "source": [
    "obs['t0'] = timestamps[0]\n",
    "obs['l0'] = measurements[0]"
   ]
  },
  {
   "cell_type": "code",
   "execution_count": 211,
   "metadata": {},
   "outputs": [],
   "source": [
    "obs['followup'] = []\n",
    "for tt, mm in zip(timestamps, measurements):\n",
    "    obs['followup'].append(OrderedDict({'time': tt, 'level': mm}))"
   ]
  },
  {
   "cell_type": "code",
   "execution_count": 212,
   "metadata": {},
   "outputs": [
    {
     "name": "stderr",
     "output_type": "stream",
     "text": [
      "Sample: 100%|██████████| 250/250 [14:17<00:00,  3.73s/it, step size=7.76e-05, acc. rate=0.976]\n"
     ]
    }
   ],
   "source": [
    "nuts_kernel = pyro.infer.mcmc.NUTS(half_life_one_isotope, adapt_step_size=True, step_size=0.1)\n",
    "mcmc_run = pyro.infer.mcmc.MCMC(nuts_kernel, num_samples=200, warmup_steps=50).run(obs)\n",
    "score_marginal = pyro.infer.EmpiricalMarginal(mcmc_run, sites=[\"half_life\", \"daily_body_waste\"])"
   ]
  },
  {
   "cell_type": "code",
   "execution_count": 213,
   "metadata": {},
   "outputs": [
    {
     "name": "stdout",
     "output_type": "stream",
     "text": [
      "estimated half life (hours) 10.359722137451172 ± 0.04223825968801975\n"
     ]
    }
   ],
   "source": [
    "print('estimated half life (hours)', score_marginal.mean[0].item(), '±', 24 * score_marginal.stddev[0].item())"
   ]
  },
  {
   "cell_type": "code",
   "execution_count": 214,
   "metadata": {},
   "outputs": [
    {
     "name": "stdout",
     "output_type": "stream",
     "text": [
      "estimated cpm body exit per day (not accounted by radioactive decay) 0.0042134542018175125 ± 5.64829315408133e-05\n"
     ]
    }
   ],
   "source": [
    "print('estimated cpm body exit per day (not accounted by radioactive decay)', score_marginal.mean[1].item(), '±', score_marginal.stddev[1].item())"
   ]
  },
  {
   "cell_type": "code",
   "execution_count": 204,
   "metadata": {},
   "outputs": [
    {
     "data": {
      "text/plain": [
       "tensor([2.5858e+04, 3.2370e-03])"
      ]
     },
     "execution_count": 204,
     "metadata": {},
     "output_type": "execute_result"
    }
   ],
   "source": [
    "score_marginal.mean"
   ]
  },
  {
   "cell_type": "code",
   "execution_count": null,
   "metadata": {},
   "outputs": [],
   "source": []
  }
 ],
 "metadata": {
  "kernelspec": {
   "display_name": "Python 3",
   "language": "python",
   "name": "python3"
  },
  "language_info": {
   "codemirror_mode": {
    "name": "ipython",
    "version": 3
   },
   "file_extension": ".py",
   "mimetype": "text/x-python",
   "name": "python",
   "nbconvert_exporter": "python",
   "pygments_lexer": "ipython3",
   "version": "3.7.3"
  }
 },
 "nbformat": 4,
 "nbformat_minor": 2
}
